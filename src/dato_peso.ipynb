{
 "cells": [
  {
   "cell_type": "code",
   "execution_count": 1,
   "id": "20acee50",
   "metadata": {},
   "outputs": [
    {
     "name": "stdout",
     "output_type": "stream",
     "text": [
      "✅ Se encontró pmd.csv en las siguientes ubicaciones:\n",
      "→ c:\\Users\\claup\\pmd\\proyecto\\src\\data\\processed\\pmd.csv\n"
     ]
    }
   ],
   "source": [
    "import os\n",
    "\n",
    "# Nombre del archivo que estamos buscando\n",
    "target_file = 'pmd.csv'\n",
    "\n",
    "# Buscar recursivamente desde el directorio actual\n",
    "found_paths = []\n",
    "for root, dirs, files in os.walk(os.getcwd()):\n",
    "    if target_file in files:\n",
    "        found_paths.append(os.path.join(root, target_file))\n",
    "\n",
    "# Mostrar resultados\n",
    "if found_paths:\n",
    "    print(f\"✅ Se encontró {target_file} en las siguientes ubicaciones:\")\n",
    "    for path in found_paths:\n",
    "        print(\"→\", path)\n",
    "else:\n",
    "    print(f\"❌ No se encontró {target_file} en este proyecto.\")"
   ]
  },
  {
   "cell_type": "code",
   "execution_count": 2,
   "id": "e75f661d",
   "metadata": {},
   "outputs": [
    {
     "data": {
      "text/html": [
       "<div>\n",
       "<style scoped>\n",
       "    .dataframe tbody tr th:only-of-type {\n",
       "        vertical-align: middle;\n",
       "    }\n",
       "\n",
       "    .dataframe tbody tr th {\n",
       "        vertical-align: top;\n",
       "    }\n",
       "\n",
       "    .dataframe thead th {\n",
       "        text-align: right;\n",
       "    }\n",
       "</style>\n",
       "<table border=\"1\" class=\"dataframe\">\n",
       "  <thead>\n",
       "    <tr style=\"text-align: right;\">\n",
       "      <th></th>\n",
       "      <th>Tipo Aeronave</th>\n",
       "      <th>PMD</th>\n",
       "    </tr>\n",
       "  </thead>\n",
       "  <tbody>\n",
       "    <tr>\n",
       "      <th>0</th>\n",
       "      <td>A320</td>\n",
       "      <td>77,0</td>\n",
       "    </tr>\n",
       "    <tr>\n",
       "      <th>1</th>\n",
       "      <td>A321</td>\n",
       "      <td>89,0</td>\n",
       "    </tr>\n",
       "    <tr>\n",
       "      <th>2</th>\n",
       "      <td>A321</td>\n",
       "      <td>89,0</td>\n",
       "    </tr>\n",
       "    <tr>\n",
       "      <th>3</th>\n",
       "      <td>B789</td>\n",
       "      <td>248,0</td>\n",
       "    </tr>\n",
       "    <tr>\n",
       "      <th>4</th>\n",
       "      <td>A320</td>\n",
       "      <td>79,0</td>\n",
       "    </tr>\n",
       "  </tbody>\n",
       "</table>\n",
       "</div>"
      ],
      "text/plain": [
       "  Tipo Aeronave    PMD\n",
       "0          A320   77,0\n",
       "1          A321   89,0\n",
       "2          A321   89,0\n",
       "3          B789  248,0\n",
       "4          A320   79,0"
      ]
     },
     "execution_count": 2,
     "metadata": {},
     "output_type": "execute_result"
    }
   ],
   "source": [
    "import pandas as pd\n",
    "\n",
    "# Ruta completa al archivo CSV\n",
    "file_path = r'c:\\Users\\claup\\pmd\\proyecto\\src\\data\\processed\\pmd.csv'\n",
    "\n",
    "# Leer el CSV usando punto y coma como separador\n",
    "df = pd.read_csv(file_path, delimiter=';')\n",
    "\n",
    "# Mostrar las primeras filas para revisar\n",
    "df.head()"
   ]
  },
  {
   "cell_type": "code",
   "execution_count": 12,
   "id": "8a6d4959",
   "metadata": {},
   "outputs": [],
   "source": [
    "# Convertir todos los valores de la columna PMD a cadenas (asegurándose de que no haya valores no convertibles)\n",
    "df['PMD'] = df['PMD'].apply(lambda x: str(x) if pd.notnull(x) else '0')\n",
    "\n",
    "# Reemplazar comas por puntos en los valores de la columna PMD\n",
    "df['PMD'] = df['PMD'].apply(lambda x: x.replace(',', '.') if isinstance(x, str) else x)\n",
    "\n",
    "# Convertir la columna PMD a float\n",
    "df['PMD'] = pd.to_numeric(df['PMD'], errors='coerce')"
   ]
  },
  {
   "cell_type": "code",
   "execution_count": 14,
   "id": "d81e05aa",
   "metadata": {},
   "outputs": [
    {
     "name": "stdout",
     "output_type": "stream",
     "text": [
      "float64\n",
      "0     77.0\n",
      "1     89.0\n",
      "2     89.0\n",
      "3    248.0\n",
      "4     79.0\n",
      "Name: PMD, dtype: float64\n",
      "0     77.0\n",
      "1     89.0\n",
      "2     89.0\n",
      "3    248.0\n",
      "4     79.0\n",
      "Name: PMD, dtype: float64\n"
     ]
    }
   ],
   "source": [
    "# Verificar el tipo de datos en la columna 'PMD' para ver qué valores hay\n",
    "print(df['PMD'].dtype)\n",
    "\n",
    "# Revisar una muestra de los primeros valores\n",
    "print(df['PMD'].head())\n",
    "\n",
    "# Si los valores son mixtos, convertir a string primero\n",
    "df['PMD'] = df['PMD'].apply(str)\n",
    "\n",
    "# Reemplazar comas por puntos en todos los valores de la columna\n",
    "df['PMD'] = df['PMD'].apply(lambda x: x.replace(',', '.') if isinstance(x, str) else x)\n",
    "\n",
    "# Convertir la columna PMD a tipo float, manejando valores no numéricos como NaN\n",
    "df['PMD'] = pd.to_numeric(df['PMD'], errors='coerce')\n",
    "\n",
    "# Verificar el resultado\n",
    "print(df['PMD'].head())"
   ]
  },
  {
   "cell_type": "code",
   "execution_count": 17,
   "id": "7b7194e7",
   "metadata": {},
   "outputs": [
    {
     "name": "stdout",
     "output_type": "stream",
     "text": [
      "    Tipo Aeronave     PMD\n",
      "0            500S   3.060\n",
      "1            680A  14.000\n",
      "2              A1   0.860\n",
      "3            A109   4.090\n",
      "4            A119   3.000\n",
      "..            ...     ...\n",
      "235          TUCR   5.700\n",
      "236           UH1   4.767\n",
      "237          UH60  10.000\n",
      "238           ULM   0.160\n",
      "239          XA42   0.950\n",
      "\n",
      "[240 rows x 2 columns]\n"
     ]
    }
   ],
   "source": [
    "# Agrupar por 'Tipo Aeronave' y obtener el valor máximo de 'Peso_Aeronave' para cada grupo\n",
    "df_max_peso = df.groupby('Tipo Aeronave')['PMD'].max().reset_index()\n",
    "\n",
    "# Mostrar el resultado\n",
    "print(df_max_peso)"
   ]
  },
  {
   "cell_type": "code",
   "execution_count": 22,
   "id": "4a5afeb1",
   "metadata": {},
   "outputs": [
    {
     "data": {
      "text/html": [
       "<div>\n",
       "<style scoped>\n",
       "    .dataframe tbody tr th:only-of-type {\n",
       "        vertical-align: middle;\n",
       "    }\n",
       "\n",
       "    .dataframe tbody tr th {\n",
       "        vertical-align: top;\n",
       "    }\n",
       "\n",
       "    .dataframe thead th {\n",
       "        text-align: right;\n",
       "    }\n",
       "</style>\n",
       "<table border=\"1\" class=\"dataframe\">\n",
       "  <thead>\n",
       "    <tr style=\"text-align: right;\">\n",
       "      <th></th>\n",
       "      <th>Tipo Aeronave</th>\n",
       "      <th>PMD</th>\n",
       "    </tr>\n",
       "  </thead>\n",
       "  <tbody>\n",
       "    <tr>\n",
       "      <th>0</th>\n",
       "      <td>500S</td>\n",
       "      <td>3.060</td>\n",
       "    </tr>\n",
       "    <tr>\n",
       "      <th>1</th>\n",
       "      <td>680A</td>\n",
       "      <td>14.000</td>\n",
       "    </tr>\n",
       "    <tr>\n",
       "      <th>2</th>\n",
       "      <td>A1</td>\n",
       "      <td>0.860</td>\n",
       "    </tr>\n",
       "    <tr>\n",
       "      <th>3</th>\n",
       "      <td>A109</td>\n",
       "      <td>4.090</td>\n",
       "    </tr>\n",
       "    <tr>\n",
       "      <th>4</th>\n",
       "      <td>A119</td>\n",
       "      <td>3.000</td>\n",
       "    </tr>\n",
       "    <tr>\n",
       "      <th>...</th>\n",
       "      <td>...</td>\n",
       "      <td>...</td>\n",
       "    </tr>\n",
       "    <tr>\n",
       "      <th>235</th>\n",
       "      <td>TUCR</td>\n",
       "      <td>5.700</td>\n",
       "    </tr>\n",
       "    <tr>\n",
       "      <th>236</th>\n",
       "      <td>UH1</td>\n",
       "      <td>4.767</td>\n",
       "    </tr>\n",
       "    <tr>\n",
       "      <th>237</th>\n",
       "      <td>UH60</td>\n",
       "      <td>10.000</td>\n",
       "    </tr>\n",
       "    <tr>\n",
       "      <th>238</th>\n",
       "      <td>ULM</td>\n",
       "      <td>0.160</td>\n",
       "    </tr>\n",
       "    <tr>\n",
       "      <th>239</th>\n",
       "      <td>XA42</td>\n",
       "      <td>0.950</td>\n",
       "    </tr>\n",
       "  </tbody>\n",
       "</table>\n",
       "<p>240 rows × 2 columns</p>\n",
       "</div>"
      ],
      "text/plain": [
       "    Tipo Aeronave     PMD\n",
       "0            500S   3.060\n",
       "1            680A  14.000\n",
       "2              A1   0.860\n",
       "3            A109   4.090\n",
       "4            A119   3.000\n",
       "..            ...     ...\n",
       "235          TUCR   5.700\n",
       "236           UH1   4.767\n",
       "237          UH60  10.000\n",
       "238           ULM   0.160\n",
       "239          XA42   0.950\n",
       "\n",
       "[240 rows x 2 columns]"
      ]
     },
     "execution_count": 22,
     "metadata": {},
     "output_type": "execute_result"
    }
   ],
   "source": [
    "\n",
    "df_max_peso"
   ]
  },
  {
   "cell_type": "code",
   "execution_count": 25,
   "id": "16477e7f",
   "metadata": {},
   "outputs": [
    {
     "name": "stdout",
     "output_type": "stream",
     "text": [
      "DataFrame Alto (más pesados):\n",
      "    Tipo Aeronave    PMD Grupo_Peso\n",
      "44           B38M  710.0       Alto\n",
      "61           B748  448.0       Alto\n",
      "60           B744  413.0       Alto\n",
      "5            A124  405.0       Alto\n",
      "68           B77L  387.0       Alto\n",
      "..            ...    ...        ...\n",
      "127          CRJ2   24.0       Alto\n",
      "100          C295   23.0       Alto\n",
      "144          E35L   23.0       Alto\n",
      "160          F900   23.0       Alto\n",
      "132          DA90   22.0      Medio\n",
      "\n",
      "[80 rows x 3 columns]\n",
      "\n",
      "DataFrame Medio:\n",
      "    Tipo Aeronave    PMD Grupo_Peso\n",
      "128          CRJX  22.00      Medio\n",
      "139          E145  22.00      Medio\n",
      "122            CL  21.00      Medio\n",
      "116          C750  20.00      Medio\n",
      "147          E550  20.00      Medio\n",
      "..            ...    ...        ...\n",
      "30           AS65   4.00      Medio\n",
      "92           C208   4.00      Medio\n",
      "210          PAY1   3.95      Medio\n",
      "108          C510   3.90      Medio\n",
      "151          EC45   3.80      Medio\n",
      "\n",
      "[80 rows x 3 columns]\n",
      "\n",
      "DataFrame Bajo (más livianos):\n",
      "    Tipo Aeronave   PMD Grupo_Peso\n",
      "106          C421  3.60       Bajo\n",
      "199          P212  3.60       Bajo\n",
      "82           BK17  3.58       Bajo\n",
      "233          TBM8  3.40       Bajo\n",
      "234          TBM9  3.30       Bajo\n",
      "..            ...   ...        ...\n",
      "39           B206  0.00       Bajo\n",
      "22           AH6G  0.00       Bajo\n",
      "94           C212  0.00       Bajo\n",
      "183          K35E  0.00       Bajo\n",
      "179          H500  0.00       Bajo\n",
      "\n",
      "[80 rows x 3 columns]\n"
     ]
    }
   ],
   "source": [
    "import pandas as pd\n",
    "\n",
    "# Ordenar el DataFrame por la columna de peso (de menor a mayor)\n",
    "df_max_peso_sorted = df_max_peso.sort_values(by='PMD', ascending=False)\n",
    "\n",
    "# Dividir en 3 partes, manteniendo el orden\n",
    "df_alto = df_max_peso_sorted.iloc[:len(df_max_peso_sorted)//3]  # Los más pesados\n",
    "df_medio = df_max_peso_sorted.iloc[len(df_max_peso_sorted)//3:2*len(df_max_peso_sorted)//3]  # Medio\n",
    "df_bajo = df_max_peso_sorted.iloc[2*len(df_max_peso_sorted)//3:]  # Los más livianos\n",
    "\n",
    "# Mostrar los tres DataFrames\n",
    "print(\"DataFrame Alto (más pesados):\")\n",
    "print(df_alto)\n",
    "print(\"\\nDataFrame Medio:\")\n",
    "print(df_medio)\n",
    "print(\"\\nDataFrame Bajo (más livianos):\")\n",
    "print(df_bajo)"
   ]
  },
  {
   "cell_type": "code",
   "execution_count": 28,
   "id": "6b470355",
   "metadata": {},
   "outputs": [
    {
     "name": "stdout",
     "output_type": "stream",
     "text": [
      "    Tipo Aeronave  PMD Grupo_Peso\n",
      "22           AH6G  0.0       Bajo\n",
      "39           B206  0.0       Bajo\n",
      "79           BE99  0.0       Bajo\n",
      "85           C135  0.0       Bajo\n",
      "94           C212  0.0       Bajo\n",
      "179          H500  0.0       Bajo\n",
      "183          K35E  0.0       Bajo\n"
     ]
    }
   ],
   "source": [
    "# Mostrar las filas que contienen ceros en cualquier columna\n",
    "df_zeros = df_max_peso[df_max_peso.eq(0).any(axis=1)]\n",
    "\n",
    "# Mostrar las filas con ceros\n",
    "print(df_zeros)"
   ]
  }
 ],
 "metadata": {
  "kernelspec": {
   "display_name": "Python (venv)",
   "language": "python",
   "name": "venv"
  },
  "language_info": {
   "codemirror_mode": {
    "name": "ipython",
    "version": 3
   },
   "file_extension": ".py",
   "mimetype": "text/x-python",
   "name": "python",
   "nbconvert_exporter": "python",
   "pygments_lexer": "ipython3",
   "version": "3.13.3"
  }
 },
 "nbformat": 4,
 "nbformat_minor": 5
}
